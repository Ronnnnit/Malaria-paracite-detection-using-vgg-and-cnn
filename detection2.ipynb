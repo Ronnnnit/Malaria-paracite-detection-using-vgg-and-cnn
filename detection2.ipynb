{
 "cells": [
  {
   "cell_type": "code",
   "execution_count": 4,
   "metadata": {},
   "outputs": [
    {
     "name": "stdout",
     "output_type": "stream",
     "text": [
      "1/1 [==============================] - 0s 195ms/step\n",
      "No parasite is present in the image.\n"
     ]
    }
   ],
   "source": [
    "import numpy as np\n",
    "from tensorflow.keras.preprocessing import image\n",
    "from tensorflow.keras.models import load_model\n",
    "import tensorflow as tf\n",
    "\n",
    "# Load the saved model\n",
    "loaded_model = load_model('cell_model_with_VGG16.h5')\n",
    "\n",
    "# Define a function to predict whether parasites are present in an image\n",
    "def predict_parasite(image_path):\n",
    "    # Load and preprocess the image\n",
    "    img = tf.keras.preprocessing.image.load_img(image_path, target_size=(130, 130))\n",
    "    img_array = tf.keras.preprocessing.image.img_to_array(img)\n",
    "    img_array = tf.expand_dims(img_array, 0)  # Create a batch\n",
    "\n",
    "    # Make predictions\n",
    "    predictions = loaded_model.predict(img_array)\n",
    "    \n",
    "    # Print the result\n",
    "    if predictions[0][0] > 0.5:\n",
    "        print(\"Parasite is present in the image.\")\n",
    "    else:\n",
    "        print(\"No parasite is present in the image.\")\n",
    "\n",
    "# Path to the image you want to predict\n",
    "image_to_predict = r'C:\\Users\\RONIT\\Desktop\\DL Project\\again\\C37BP2_thinF_IMG_20150620_133001a_cell_76.png'\n",
    "\n",
    "# Make prediction\n",
    "predict_parasite(image_to_predict)\n"
   ]
  }
 ],
 "metadata": {
  "kernelspec": {
   "display_name": "base",
   "language": "python",
   "name": "python3"
  },
  "language_info": {
   "codemirror_mode": {
    "name": "ipython",
    "version": 3
   },
   "file_extension": ".py",
   "mimetype": "text/x-python",
   "name": "python",
   "nbconvert_exporter": "python",
   "pygments_lexer": "ipython3",
   "version": "3.11.5"
  }
 },
 "nbformat": 4,
 "nbformat_minor": 2
}
